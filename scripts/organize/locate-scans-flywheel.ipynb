{
 "cells": [
  {
   "cell_type": "markdown",
   "metadata": {},
   "source": [
    "# Locating scans for the LongitudinalDiffusion Project on Flywheel\n",
    "Get Flywheel **acqid** and **filename** for `anat`, `dwi`, and `fmap` files from all subjects/sessions in the following projects:\n",
    "- 22Q_812481\n",
    "- 22q_Midline_834246\n",
    "- EFR01\n",
    "- EONSX_810366\n",
    "- Evolution_833922\n",
    "- GRMPY_822831\n",
    "- PNC_CS_810336\n",
    "- PNC_LG_810336\n",
    "- SYRP_818621\n",
    "\n",
    "**Project:** LongitudinalDiffusion <br>\n",
    "**Author:** Katja Zoner <br>\n",
    "**Date:** 02/24/2022 <br>"
   ]
  },
  {
   "cell_type": "code",
   "execution_count": 2,
   "metadata": {},
   "outputs": [],
   "source": [
    "import os\n",
    "import sys\n",
    "import logging\n",
    "import time\n",
    "from dateutil import tz\n",
    "from datetime import datetime\n",
    "import string \n",
    "import numpy as np\n",
    "import pandas as pd\n",
    "import flywheel"
   ]
  },
  {
   "cell_type": "code",
   "execution_count": 3,
   "metadata": {},
   "outputs": [],
   "source": [
    "# Instantiate a logger\n",
    "logging.basicConfig(level=logging.INFO, format='%(asctime)s %(levelname)s %(message)s')\n",
    "log = logging.getLogger('root')"
   ]
  },
  {
   "cell_type": "code",
   "execution_count": 4,
   "metadata": {},
   "outputs": [],
   "source": [
    "# Get client\n",
    "fw = flywheel.Client()\n",
    "assert fw, \"Your Flywheel CLI credentials aren't set!\""
   ]
  },
  {
   "cell_type": "code",
   "execution_count": 5,
   "metadata": {},
   "outputs": [],
   "source": [
    "# Metadata for new project \n",
    "GROUP = \"BBL\"\n",
    "PROJECT_LABEL = \"LongitudinalDiffusion\"\n",
    "project = fw.projects.find_first('label=\"{}\"'.format(PROJECT_LABEL))\n",
    "assert project, \"Project not found!\"  "
   ]
  },
  {
   "cell_type": "code",
   "execution_count": null,
   "metadata": {},
   "outputs": [],
   "source": [
    "PROTOCOL_LIST = [\n",
    "    \"22Q_812481\",\n",
    "    \"22q_Midline_834246\",\n",
    "    \"EFR01\",\n",
    "    \"EONSX_810366\",\n",
    "    \"Evolution_833922\",\n",
    "    \"GRMPY_822831\",\n",
    "    \"PNC_CS_810336\",\n",
    "    \"PNC_LG_810336\",\n",
    "    \"SYRP_818621\"\n",
    "]"
   ]
  }
 ],
 "metadata": {
  "interpreter": {
   "hash": "b0ed900e343bd95da387275d480c9d915ea60490ea04ca59fab107d348f9c867"
  },
  "kernelspec": {
   "display_name": "Python 3.9.7 ('flywheel')",
   "language": "python",
   "name": "python3"
  },
  "language_info": {
   "codemirror_mode": {
    "name": "ipython",
    "version": 3
   },
   "file_extension": ".py",
   "mimetype": "text/x-python",
   "name": "python",
   "nbconvert_exporter": "python",
   "pygments_lexer": "ipython3",
   "version": "3.9.7"
  },
  "orig_nbformat": 4
 },
 "nbformat": 4,
 "nbformat_minor": 2
}
